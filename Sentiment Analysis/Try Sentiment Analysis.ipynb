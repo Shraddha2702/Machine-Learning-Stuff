{
 "cells": [
  {
   "cell_type": "code",
   "execution_count": 1,
   "metadata": {},
   "outputs": [],
   "source": [
    "import re\n",
    "import tweepy\n",
    "from tweepy import OAuthHandler\n",
    "from textblob import TextBlob\n",
    "import twitter"
   ]
  },
  {
   "cell_type": "code",
   "execution_count": 2,
   "metadata": {},
   "outputs": [],
   "source": [
    "consumer_key = 'Wpp0m4iZhmfHSd7zDBEz5lbhl'\n",
    "consumer_secret = '7qtQYJuA9Blda2qj8sujaSEA2Qv4EJWt8jaMpp9kFxOj8jT5k7'\n",
    "access_token = '984048156944941056-igVnvPSSWrGiOnfXsa3gfe6DllzdOXs'\n",
    "access_token_secret = 'RashpHFw3uWPBJREJNZagvqlamWkUr3c6Cvlatcq2BU8s'"
   ]
  },
  {
   "cell_type": "code",
   "execution_count": 4,
   "metadata": {},
   "outputs": [],
   "source": [
    "# create OAuthHandler object\n",
    "auth = OAuthHandler(consumer_key, consumer_secret)\n",
    "# set access token and secret\n",
    "auth.set_access_token(access_token, access_token_secret)\n",
    "# create tweepy API object to fetch tweets\n",
    "api = tweepy.API(auth)"
   ]
  },
  {
   "cell_type": "code",
   "execution_count": 9,
   "metadata": {},
   "outputs": [],
   "source": [
    " def get_tweet_sentiment(tweet):\n",
    "    '''\n",
    "    Utility function to classify sentiment of passed tweet\n",
    "    using textblob's sentiment method\n",
    "    '''\n",
    "    # create TextBlob object of passed tweet text\n",
    "    analysis = TextBlob(' '.join(re.sub(\"(@[A-Za-z0-9]+)|([^0-9A-Za-z \\t])|(\\w+:\\/\\/\\S+)\", \" \", tweet).split()))\n",
    "    # set sentiment\n",
    "    if analysis.sentiment.polarity > 0:\n",
    "        return 'positive'\n",
    "    elif analysis.sentiment.polarity == 0:\n",
    "        return 'neutral'\n",
    "    else:\n",
    "        return 'negative'"
   ]
  },
  {
   "cell_type": "code",
   "execution_count": 5,
   "metadata": {},
   "outputs": [],
   "source": [
    "tweets = []"
   ]
  },
  {
   "cell_type": "code",
   "execution_count": 6,
   "metadata": {},
   "outputs": [],
   "source": [
    "fetched_tweets = api.search(q = 'Imagica', count = 500)"
   ]
  },
  {
   "cell_type": "code",
   "execution_count": 11,
   "metadata": {},
   "outputs": [],
   "source": [
    "for tweet in fetched_tweets:\n",
    "    # empty dictionary to store required params of a tweet\n",
    "    parsed_tweet = {}\n",
    "\n",
    "    # saving text of tweet\n",
    "    parsed_tweet['text'] = tweet.text\n",
    "    # saving sentiment of tweet\n",
    "    parsed_tweet['sentiment'] = get_tweet_sentiment(tweet.text)\n",
    "\n",
    "    # appending parsed tweet to tweets list\n",
    "    if tweet.retweet_count > 0:\n",
    "        # if tweet has retweets, ensure that it is appended only once\n",
    "        if parsed_tweet not in tweets:\n",
    "            tweets.append(parsed_tweet)\n",
    "    else:\n",
    "        tweets.append(parsed_tweet)"
   ]
  },
  {
   "cell_type": "code",
   "execution_count": 12,
   "metadata": {},
   "outputs": [],
   "source": [
    "ptweets = [tweet for tweet in tweets if tweet['sentiment'] == 'positive']\n",
    "ntweets = [tweet for tweet in tweets if tweet['sentiment'] == 'negative']\n",
    "neuttweets = [tweet for tweet in tweets if tweet['sentiment']=='neutral']"
   ]
  },
  {
   "cell_type": "code",
   "execution_count": 13,
   "metadata": {},
   "outputs": [
    {
     "name": "stdout",
     "output_type": "stream",
     "text": [
      "Positive tweets percentage: 25.88235294117647 %\n",
      "Negative tweets percentage: 10.588235294117647 %\n",
      "Neutral tweets percentage: 63.529411764705884 %\n"
     ]
    }
   ],
   "source": [
    "print(\"Positive tweets percentage: {} %\".format(100*len(ptweets)/len(tweets)))\n",
    "print(\"Negative tweets percentage: {} %\".format(100*len(ntweets)/len(tweets)))\n",
    "print(\"Neutral tweets percentage: {} %\".format(100*(len(tweets) - len(ntweets) - len(ptweets))/len(tweets)))"
   ]
  },
  {
   "cell_type": "code",
   "execution_count": 14,
   "metadata": {},
   "outputs": [
    {
     "name": "stdout",
     "output_type": "stream",
     "text": [
      "\n",
      "\n",
      "Positive tweets:\n",
      "Is Your Summer Sorted Yet? Enjoy This #HotSummer In Cool #WaterRides Along with #AmazingOffers At #AdlabsImagica.… https://t.co/vLigVlRoVc\n",
      "\n",
      "This place serves you the most delicious food with some surprising twists from our lion cub chef Roberto. Can you… https://t.co/PZZkof2IDw\n",
      "\n",
      "With a Britisher in 1940s . #selfie #fun #blackandwhite #silvertone #adlabsimagica #imagica… https://t.co/46r6pWtNzD\n",
      "\n",
      "Imagica theme park &gt;&gt;&gt;&gt;&gt;&gt;&gt;&gt;&gt;&gt;&gt;&gt;&gt; Acqua imagica \n",
      "Water Kingdom is still better than Acqua..\n",
      "\n",
      "RT @joshuatj: IMAGICA Corp Kensuke Nakamura, Yoko Arai &amp; Satoko Sekiguchi giving live demonstration of the film restoration of Jigokumon (G…\n",
      "\n",
      "RT @priyanka__mane: @this_is_zenobia @bloglove2018 @soulblogsRT @Bloggersplan Apparently Imagica is called disneyland of India 🙄\n",
      "\n",
      "@this_is_zenobia @bloglove2018 @soulblogsRT @Bloggersplan Apparently Imagica is called disneyland of India 🙄\n",
      "\n",
      "RT @AdlabsImagica: Straight to the rides from the dance floor! Watch @mudassarkhan1 talk about his first-time experience with our exhilarat…\n",
      "\n",
      "The jolly gang of friends, ready to take on any adventure has arrived from Dholakpur! \n",
      "Welcome the new members of t… https://t.co/RCfFgl5iOT\n",
      "\n",
      "RT @Kalyani125lakhe: #imagica Adults are only kids grown up anyway #waterpark #Fun @ShubhamAne https://t.co/txkrxnejmH\n",
      "\n"
     ]
    }
   ],
   "source": [
    "print(\"\\n\\nPositive tweets:\")\n",
    "for tweet in ptweets[:10]:\n",
    "    print(tweet['text'])\n",
    "    print()"
   ]
  },
  {
   "cell_type": "code",
   "execution_count": 15,
   "metadata": {},
   "outputs": [
    {
     "name": "stdout",
     "output_type": "stream",
     "text": [
      "\n",
      "\n",
      "Negative tweets:\n",
      "@MumbaiPolice Bad day with rick guys  waiting outside, imagica Whole team had gather to hit rick we had booked sinc… https://t.co/whlDYtMUmT\n",
      "\n",
      "feeling crazy at Imagica https://t.co/wZF4tVljlA\n",
      "\n",
      "RT @priyanka__mane: @this_is_zenobia @bloglove2018 @soulblogsRT @Bloggersplan Imagica has lots of rollercoaster​.. so it is kinda of boring…\n",
      "\n",
      "@AdlabsImagica fun was on our mind... Everythng was well... Rickshaw guys outside imagica are worst, we had a booke… https://t.co/oDqrEs7efy\n",
      "\n",
      "Bad experience with rickshaw guys  standing outside, imagica... Whole team had gather to hit rickshawala who we had… https://t.co/sU88XkNEgd\n",
      "\n",
      "I am not perfect. I am Original. 💫 @ Imagica https://t.co/Louo0AKzK0\n",
      "\n",
      "Forever Yours. A badly faded frame from this film in the FAPOT collection. Imagica will demonstrate colour correcti… https://t.co/m8CAqNacQs\n",
      "\n",
      "#News Imagica Robot Holdings Renamed as Imagica Group in Reorganization • Imagica to also merge with 2 other subsid… https://t.co/xQt5QSs4kD\n",
      "\n",
      "#Imagica and #Green #Gold #Animation alliance to start #ChhotaBheem The Ride https://t.co/FoiyMq1Rg4 #travel… https://t.co/uSvL1YuGUK\n",
      "\n"
     ]
    }
   ],
   "source": [
    "print(\"\\n\\nNegative tweets:\")\n",
    "for tweet in ntweets[:10]:\n",
    "    print(tweet['text'])\n",
    "    print()\n"
   ]
  },
  {
   "cell_type": "code",
   "execution_count": 16,
   "metadata": {},
   "outputs": [
    {
     "name": "stdout",
     "output_type": "stream",
     "text": [
      "\n",
      "\n",
      "Neutral tweets:\n",
      "RT @cinefilDVD: IMAGICAと関連２社が合併し、新しい名前に（発表は4/25）。東洋現像所→IMAGICA →？？？ https://t.co/XtioEzJQtb\n",
      "\n",
      "remember me\n",
      "the birthday massacre\n",
      "versão demo do imagica\n",
      "3:39\n",
      "\n",
      "IMAGICA\n",
      "\n",
      "@imagica_studio Muchas felicidades...\n",
      "Saludos\n",
      "\n",
      "RT @imagica_studio: La UVM distinguió a IMAGICA para dar una conferencia sobre producción de cine de animación.\n",
      "Fue una gran experiencia te…\n",
      "\n",
      "RT @joshuatj: IMAGICA dabbled with HDR remastering of Jigokumon, demonstrate the potential of film elements. I don't think it counts as #re…\n",
      "\n",
      "Let the enjoyment begin at your doorstep!\n",
      "Sit back and relax on your way to Imagica and save upto 22%\n",
      "\n",
      "Chauffer dri… https://t.co/rOpQSX642N\n",
      "\n",
      "La UVM distinguió a IMAGICA para dar una conferencia sobre producción de cine de animación.\n",
      "Fue una gran experienci… https://t.co/cPahi1ff3U\n",
      "\n",
      "Testimoniales. https://t.co/kC8nQxa2pZ\n",
      "\n",
      "@this_is_zenobia @bloglove2018 @soulblogsRT @Bloggersplan Imagica has lots of rollercoaster​.. so it is kinda of bo… https://t.co/mfYMiE0SHM\n",
      "\n"
     ]
    }
   ],
   "source": [
    "print(\"\\n\\nNeutral tweets:\")\n",
    "for tweet in neuttweets[:10]:\n",
    "    print(tweet['text'])\n",
    "    print()"
   ]
  },
  {
   "cell_type": "code",
   "execution_count": null,
   "metadata": {},
   "outputs": [],
   "source": []
  }
 ],
 "metadata": {
  "kernelspec": {
   "display_name": "Python 3",
   "language": "python",
   "name": "python3"
  },
  "language_info": {
   "codemirror_mode": {
    "name": "ipython",
    "version": 3
   },
   "file_extension": ".py",
   "mimetype": "text/x-python",
   "name": "python",
   "nbconvert_exporter": "python",
   "pygments_lexer": "ipython3",
   "version": "3.5.2"
  }
 },
 "nbformat": 4,
 "nbformat_minor": 2
}
